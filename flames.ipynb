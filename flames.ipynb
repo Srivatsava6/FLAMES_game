{
 "cells": [
  {
   "cell_type": "code",
   "execution_count": 4,
   "id": "20a1586d-b652-422e-a177-7f7690039a34",
   "metadata": {},
   "outputs": [
    {
     "name": "stdin",
     "output_type": "stream",
     "text": [
      "Enter the name1: Raam Kumar\n",
      "Enter the name2: Marine Rougline\n"
     ]
    },
    {
     "name": "stdout",
     "output_type": "stream",
     "text": [
      "raamkumar character count:\n",
      "r appears 2 times\n",
      "a appears 3 times\n",
      "m appears 2 times\n",
      "k appears 1 times\n",
      "u appears 1 times\n",
      "marinerougline character count:\n",
      "m appears 1 times\n",
      "a appears 1 times\n",
      "r appears 2 times\n",
      "i appears 2 times\n",
      "n appears 2 times\n",
      "e appears 2 times\n",
      "o appears 1 times\n",
      "u appears 1 times\n",
      "g appears 1 times\n",
      "l appears 1 times\n",
      "dissimilar character counts: {'a': 2, 'm': 1, 'k': 1, 'i': 2, 'n': 2, 'e': 2, 'o': 1, 'g': 1, 'l': 1}\n",
      "Total number of characters that are disimilar 13\n",
      "Destiny says: AFFECTION\n",
      "\n",
      "\n",
      "If you are not happy with your destiny, destiny gives you one more chance!!!!\n",
      "we are going to shuffle FLAMES randomly once and compute flames again\n"
     ]
    },
    {
     "name": "stdin",
     "output_type": "stream",
     "text": [
      "Press Enter to continue \n"
     ]
    },
    {
     "name": "stdout",
     "output_type": "stream",
     "text": [
      "after shuffling flames we get: sfmela\n"
     ]
    },
    {
     "ename": "NameError",
     "evalue": "name 'computer_flames' is not defined",
     "output_type": "error",
     "traceback": [
      "\u001b[1;31m---------------------------------------------------------------------------\u001b[0m",
      "\u001b[1;31mNameError\u001b[0m                                 Traceback (most recent call last)",
      "Cell \u001b[1;32mIn[4], line 87\u001b[0m\n\u001b[0;32m     85\u001b[0m game \u001b[38;5;241m=\u001b[39m \u001b[38;5;124m'\u001b[39m\u001b[38;5;124m'\u001b[39m\u001b[38;5;241m.\u001b[39mjoin(random\u001b[38;5;241m.\u001b[39msample(game, \u001b[38;5;28mlen\u001b[39m(game)))\n\u001b[0;32m     86\u001b[0m \u001b[38;5;28mprint\u001b[39m(\u001b[38;5;124m\"\u001b[39m\u001b[38;5;124mafter shuffling flames we get:\u001b[39m\u001b[38;5;124m\"\u001b[39m, game)\n\u001b[1;32m---> 87\u001b[0m \u001b[38;5;28mprint\u001b[39m(\u001b[38;5;124m\"\u001b[39m\u001b[38;5;124mAnd Destiny says:\u001b[39m\u001b[38;5;124m\"\u001b[39m, computer_flames(name1, name2, game)\u001b[38;5;241m.\u001b[39mupper())\n",
      "\u001b[1;31mNameError\u001b[0m: name 'computer_flames' is not defined"
     ]
    }
   ],
   "source": [
    "import random\n",
    "\n",
    "def clean_name(name):\n",
    "    return name.lower().replace(\" \",\"\")\n",
    "\n",
    "def count_characters(name):\n",
    "    name_dict = {}\n",
    "    i = 0\n",
    "    while i < len(name):\n",
    "        if name[i] in name_dict:\n",
    "            name_dict[name[i]] += 1\n",
    "        else:\n",
    "            name_dict[name[i]] = 1\n",
    "        i += 1\n",
    "    return name_dict\n",
    "\n",
    "def print_character_counts(name, name_dict):\n",
    "    print(name, \"character count:\")\n",
    "    for i in name_dict:\n",
    "        print(i, \"appears\", name_dict[i], \"times\")\n",
    "\n",
    "def get_dissimilar_counts(dict1, dict2):\n",
    "    new_dict = {}\n",
    "    for char in dict1:\n",
    "        if char in dict2:\n",
    "            new_dict[char] = abs(dict1[char] - dict2[char])\n",
    "        else:\n",
    "            new_dict[char] = dict1[char]\n",
    "    for char in dict2:\n",
    "        if char not in dict1:\n",
    "            new_dict[char] = dict2[char]\n",
    "    new_dict1 = {}\n",
    "    for char in new_dict:\n",
    "        if new_dict[char] != 0:\n",
    "            new_dict1[char] = new_dict[char]\n",
    "    return new_dict1\n",
    "\n",
    "def count_total_difference(dissimilar_dict):\n",
    "    x = 0\n",
    "    for value in dissimilar_dict.values():\n",
    "        x += value\n",
    "    return x\n",
    "\n",
    "def eliminate_flames(game, x):\n",
    "    while(len(game) != 1):\n",
    "        pos = x % len(game)\n",
    "        if(pos != 0):\n",
    "            game = game[pos:] + game[:pos-1]\n",
    "        else:\n",
    "            game = game[:-1]\n",
    "    return game\n",
    "\n",
    "def compute_flames(name1, name2, game):\n",
    "    name1 = clean_name(name1)\n",
    "    name2 = clean_name(name2)\n",
    "\n",
    "    name_dict1 = count_characters(name1)\n",
    "    name_dict2 = count_characters(name2)\n",
    "\n",
    "    print_character_counts(name1, name_dict1)\n",
    "    print_character_counts(name2, name_dict2)\n",
    "\n",
    "    dissimilar_dict = get_dissimilar_counts(name_dict1, name_dict2)\n",
    "    print(\"dissimilar character counts:\", dissimilar_dict)\n",
    "\n",
    "    x = count_total_difference(dissimilar_dict)\n",
    "    print(\"Total number of characters that are disimilar\", x)\n",
    "\n",
    "    result = eliminate_flames(game, x)\n",
    "    \n",
    "    flames = {'f':\"friends\", 'l':\"love\", 'a':\"affection\", 'm':\"marriage\", 'e':\"enemies\", 's':\"siblings\"}\n",
    "    return flames[result]\n",
    "\n",
    "\n",
    "# Main Function\n",
    "name1 = input(\"Enter the name1:\")\n",
    "name2 = input(\"Enter the name2:\")\n",
    "print(\"Destiny says:\", compute_flames(name1, name2, game='flames').upper())\n",
    "\n",
    "print(\"\\n\\nIf you are not happy with your destiny, destiny gives you one more chance!!!!\")\n",
    "print(\"we are going to shuffle FLAMES randomly once and compute flames again\") \n",
    "\n",
    "if input(\"Press Enter to continue\") == '':\n",
    "    game = \"flames\"\n",
    "    game = ''.join(random.sample(game, len(game)))\n",
    "    print(\"after shuffling flames we get:\", game)\n",
    "    print(\"And Destiny says:\", computer_flames(name1, name2, game).upper())\n"
   ]
  },
  {
   "cell_type": "code",
   "execution_count": null,
   "id": "3dac3da5-9b5d-4fc7-8cb4-4dd607d44a4e",
   "metadata": {},
   "outputs": [],
   "source": []
  }
 ],
 "metadata": {
  "kernelspec": {
   "display_name": "Python [conda env:base] *",
   "language": "python",
   "name": "conda-base-py"
  },
  "language_info": {
   "codemirror_mode": {
    "name": "ipython",
    "version": 3
   },
   "file_extension": ".py",
   "mimetype": "text/x-python",
   "name": "python",
   "nbconvert_exporter": "python",
   "pygments_lexer": "ipython3",
   "version": "3.12.7"
  }
 },
 "nbformat": 4,
 "nbformat_minor": 5
}
